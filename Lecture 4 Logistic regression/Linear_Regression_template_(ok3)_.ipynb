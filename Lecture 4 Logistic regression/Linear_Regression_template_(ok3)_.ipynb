{
  "nbformat": 4,
  "nbformat_minor": 0,
  "metadata": {
    "colab": {
      "provenance": [],
      "collapsed_sections": [
        "l7Ln2vL3zayx",
        "c1Z2O-FJznBB",
        "GGa7Fr-LztPo"
      ]
    },
    "kernelspec": {
      "name": "python3",
      "display_name": "Python 3"
    },
    "language_info": {
      "name": "python"
    }
  },
  "cells": [
    {
      "cell_type": "markdown",
      "source": [
        "# **Topic: Linear Regression**\n",
        "### Method Follow CRISP-DM\n",
        "<!-- ![CRISP](https://www.datascience-pm.com/wp-content/uploads/2021/02/CRISP-DM.png) -->\n",
        "\n",
        "<img src=\"https://www.datascience-pm.com/wp-content/uploads/2021/02/CRISP-DM.png\" width=500>"
      ],
      "metadata": {
        "id": "trMQfJ7xyRJh"
      }
    },
    {
      "cell_type": "markdown",
      "source": [
        "## Step 1: Get Data \n",
        "* collect from sensors \n",
        "* read csv, xml\n",
        "* Database\n",
        "* web crawler (web, opendata)\n",
        "* API (群益API) = Restful API (HTTP GET)\n",
        " \n",
        "  Python 後端程式框架\n",
        "  ==> flask, Django, fastapi, ASYN, swagger 文件\n",
        "\n",
        "\n",
        "\n",
        "\n"
      ],
      "metadata": {
        "id": "l7Ln2vL3zayx"
      }
    },
    {
      "cell_type": "code",
      "source": [
        "import pandas as pd\n",
        "import matplotlib.pyplot as plt\n",
        "import seaborn as sns \n",
        "# Data Viz tool (visualization)\n",
        "# python matplotlib, seaborn, D3.js, plotly\n",
        "# Google Data Studio, Tableau, Power BI \n",
        "\n",
        "data=pd.read_csv(\"dataN.csv\")\n",
        "print(data.head(10))\n",
        "print(data.info())\n",
        "print(data.describe())\n",
        "plt.scatter(data.x,data.y)\n",
        "plt.show()\n",
        "\n",
        "sns.histplot(data.y)\n",
        "\n",
        "#--------------practice----------\n",
        "# data=pd.read_csv(\"data.csv\")\n",
        "# print(type(data))\n",
        "\n",
        "# print(data.head())\n",
        "# data.head(10)\n",
        "# data.info()\n",
        "# data.describe()\n",
        "#-------------------------------\n",
        "\n"
      ],
      "metadata": {
        "colab": {
          "base_uri": "https://localhost:8080/",
          "height": 1000
        },
        "id": "JP0WQIyFvTQg",
        "outputId": "9298d492-3090-4bc5-fb16-bf2e71c40f61"
      },
      "execution_count": 6,
      "outputs": [
        {
          "output_type": "stream",
          "name": "stdout",
          "text": [
            "      x             y\n",
            "0   680   8648.494704\n",
            "1   161   2276.223519\n",
            "2   321   4469.314024\n",
            "3   175   2776.517896\n",
            "4  1001  10214.141390\n",
            "5   577   7232.675201\n",
            "6   766   8976.655095\n",
            "7    51    721.756475\n",
            "8   445   5612.239108\n",
            "9   452   4939.735901\n",
            "<class 'pandas.core.frame.DataFrame'>\n",
            "RangeIndex: 156 entries, 0 to 155\n",
            "Data columns (total 2 columns):\n",
            " #   Column  Non-Null Count  Dtype  \n",
            "---  ------  --------------  -----  \n",
            " 0   x       156 non-null    int64  \n",
            " 1   y       156 non-null    float64\n",
            "dtypes: float64(1), int64(1)\n",
            "memory usage: 2.6 KB\n",
            "None\n",
            "                 x             y\n",
            "count   156.000000    156.000000\n",
            "mean    557.788462   6549.571669\n",
            "std     299.342376   3002.645983\n",
            "min       0.000000    721.756475\n",
            "25%     318.750000   4142.973355\n",
            "50%     560.000000   6507.179274\n",
            "75%     813.250000   9207.855106\n",
            "max    1021.000000  11770.797770\n"
          ]
        },
        {
          "output_type": "display_data",
          "data": {
            "text/plain": [
              "<Figure size 432x288 with 1 Axes>"
            ],
            "image/png": "[encoded data removed]"
          },
          "metadata": {
            "needs_background": "light"
          }
        },
        {
          "output_type": "execute_result",
          "data": {
            "text/plain": [
              "<matplotlib.axes._subplots.AxesSubplot at 0x7f68379a3b10>"
            ]
          },
          "metadata": {},
          "execution_count": 6
        },
        {
          "output_type": "display_data",
          "data": {
            "text/plain": [
              "<Figure size 432x288 with 1 Axes>"
            ],
            "image/png": "[encoded data removed]"
          },
          "metadata": {
            "needs_background": "light"
          }
        }
      ]
    },
    {
      "cell_type": "markdown",
      "source": [
        "## Step 2: Prepoare X, Y\n",
        "* data missing ==> imputation (插補)\n",
        "* data normalization\n",
        "* categorical data ==> onehot encoding\n",
        "* data format for different package\n",
        " example (python <-> numpy <-> sklearn)\n",
        "* data augmentation "
      ],
      "metadata": {
        "id": "v1np9BQqzegZ"
      }
    },
    {
      "cell_type": "code",
      "source": [
        "print(data.columns)\n",
        "print(data.index)\n",
        "\n",
        "# X=data.x.values.reshape(-1,1)\n",
        "# Y=data['y'].values.reshape(-1,1)\n",
        "\n",
        "X=data.iloc[:,:-1].values.reshape(-1,1)\n",
        "Y=data.iloc[:,-1].values.reshape(-1,1)\n",
        "\n",
        "\n",
        "\n",
        "\n",
        "print(type(X),X.shape)\n",
        "print(type(Y),Y.shape)\n",
        "data2=data.values\n",
        "print(type(data2),data2.shape)"
      ],
      "metadata": {
        "colab": {
          "base_uri": "https://localhost:8080/"
        },
        "id": "FQ4drlelERoC",
        "outputId": "d1444125-1c58-4fe7-efc7-494f0bf32a59"
      },
      "execution_count": 9,
      "outputs": [
        {
          "output_type": "stream",
          "name": "stdout",
          "text": [
            "Index(['x', 'y'], dtype='object')\n",
            "RangeIndex(start=0, stop=156, step=1)\n",
            "<class 'numpy.ndarray'> (156, 1)\n",
            "<class 'numpy.ndarray'> (156, 1)\n",
            "<class 'numpy.ndarray'> (156, 2)\n"
          ]
        }
      ]
    },
    {
      "cell_type": "markdown",
      "source": [
        "## Step 3: Select Model\n",
        "<img src=\"https://miro.medium.com/max/720/1*q0COC8-Q0vOnuKSaENwivg.png\" width=500>\n"
      ],
      "metadata": {
        "id": "Ax8OrNXXzhrQ"
      }
    },
    {
      "cell_type": "code",
      "source": [
        "import numpy as np\n",
        "import matplotlib.pyplot as plt\n",
        "from sklearn.linear_model import LinearRegression as LR\n",
        "from sklearn import linear_model\n",
        "\n",
        "# model selection\n",
        "# using Lasso model\n",
        "model = linear_model.Lasso(alpha=0.1)\n",
        "\n",
        "# using Linear Regression\n",
        "# model =LR()\n",
        "\n",
        "print(model)\n",
        "model.fit(X,Y)\n",
        "\n",
        "# y=ax+b\n",
        "a= float(model.coef_)\n",
        "b=float(model.intercept_)\n",
        "\n",
        "\n",
        "\n",
        "\n",
        "def plotmodel(a=5,b=5):\n",
        "  print(\"a=\",a,\"b=\",b)\n",
        "  xm=np.array([0,1000])\n",
        "  ym=a*xm+b\n",
        "  plt.scatter(X,Y)\n",
        "  plt.plot(xm,ym,'r')\n",
        "  plt.show()\n",
        "\n",
        "plotmodel()\n",
        "plotmodel(a,b)"
      ],
      "metadata": {
        "colab": {
          "base_uri": "https://localhost:8080/",
          "height": 565
        },
        "id": "91HrQBASCSYC",
        "outputId": "433a644f-2b78-40bb-d611-c6d245c2da8a"
      },
      "execution_count": 19,
      "outputs": [
        {
          "output_type": "stream",
          "name": "stdout",
          "text": [
            "Lasso(alpha=0.1)\n",
            "a= 5 b= 5\n"
          ]
        },
        {
          "output_type": "display_data",
          "data": {
            "text/plain": [
              "<Figure size 432x288 with 1 Axes>"
            ],
            "image/png": "[encoded data removed]"
          },
          "metadata": {
            "needs_background": "light"
          }
        },
        {
          "output_type": "stream",
          "name": "stdout",
          "text": [
            "a= 9.850822921708438 b= 1054.8963061470522\n"
          ]
        },
        {
          "output_type": "display_data",
          "data": {
            "text/plain": [
              "<Figure size 432x288 with 1 Axes>"
            ],
            "image/png": "[encoded data removed]"
          },
          "metadata": {
            "needs_background": "light"
          }
        }
      ]
    },
    {
      "cell_type": "markdown",
      "source": [
        "## Step 4: Evaluate Model Performance\n",
        "\n",
        "* Mean Square Error\n",
        "* Mean Absolute Error\n",
        "* R-square"
      ],
      "metadata": {
        "id": "c1Z2O-FJznBB"
      }
    },
    {
      "cell_type": "code",
      "source": [
        "from sklearn.metrics import r2_score\n",
        "from sklearn.metrics import mean_squared_error\n",
        "from sklearn.metrics import mean_absolute_error\n",
        "y_true =Y\n",
        "y_pred = model.predict(X)\n",
        "r2=r2_score(y_true, y_pred)\n",
        "mse=mean_squared_error(y_true, y_pred)\n",
        "mae=mean_absolute_error(y_true, y_pred)\n",
        "\n",
        "print(\"r2=\",r2)\n",
        "print(\"mse=\",mse)\n",
        "print(\"mae=\",mae)\n",
        "\n"
      ],
      "metadata": {
        "colab": {
          "base_uri": "https://localhost:8080/"
        },
        "id": "s0be8xqo9XKx",
        "outputId": "06f066e3-6b61-4cba-b243-f40c5b5a6f44"
      },
      "execution_count": 22,
      "outputs": [
        {
          "output_type": "stream",
          "name": "stdout",
          "text": [
            "r2= 0.9644356706862087\n",
            "mse= 318588.419305615\n",
            "mae= 488.18219921534165\n"
          ]
        }
      ]
    },
    {
      "cell_type": "markdown",
      "source": [
        "## Step 5: Deploy Prediction\n",
        "\n",
        "* purpose => 將 AI model push to deployment \n"
      ],
      "metadata": {
        "id": "GGa7Fr-LztPo"
      }
    },
    {
      "cell_type": "code",
      "source": [
        "data['preY']=y_pred\n",
        "print(data.head())"
      ],
      "metadata": {
        "colab": {
          "base_uri": "https://localhost:8080/"
        },
        "id": "k43qSQCz--M6",
        "outputId": "c92b780a-258a-4b7e-be93-af58c09794f8"
      },
      "execution_count": 23,
      "outputs": [
        {
          "output_type": "stream",
          "name": "stdout",
          "text": [
            "      x             y          preY\n",
            "0   680   8648.494704   7753.455893\n",
            "1   161   2276.223519   2640.878797\n",
            "2   321   4469.314024   4217.010464\n",
            "3   175   2776.517896   2778.790317\n",
            "4  1001  10214.141390  10915.570051\n"
          ]
        }
      ]
    },
    {
      "cell_type": "code",
      "source": [
        "# DataFrame write to csv \n",
        "data.to_csv(\"result.csv\",index=False, mode='w')\n"
      ],
      "metadata": {
        "id": "o8xg_9o6_Jo8"
      },
      "execution_count": 24,
      "outputs": []
    },
    {
      "cell_type": "code",
      "source": [],
      "metadata": {
        "id": "7C3dNGQp_cbi"
      },
      "execution_count": null,
      "outputs": []
    }
  ]
}