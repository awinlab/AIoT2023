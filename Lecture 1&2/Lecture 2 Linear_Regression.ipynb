{
  "nbformat": 4,
  "nbformat_minor": 0,
  "metadata": {
    "colab": {
      "provenance": []
    },
    "kernelspec": {
      "name": "python3",
      "display_name": "Python 3"
    },
    "language_info": {
      "name": "python"
    }
  },
  "cells": [
    {
      "cell_type": "code",
      "execution_count": null,
      "metadata": {
        "id": "kSxPizpHvu5-"
      },
      "outputs": [],
      "source": []
    },
    {
      "cell_type": "markdown",
      "source": [],
      "metadata": {
        "id": "G_i_6G8eyC-h"
      }
    },
    {
      "cell_type": "markdown",
      "source": [
        "# **Topic: Linear Regression**\n",
        "### Method Follow CRISP-DM\n",
        "<img src=\"https://www.datascience-pm.com/wp-content/uploads/2021/02/CRISP-DM.png\" width=500>"
      ],
      "metadata": {
        "id": "trMQfJ7xyRJh"
      }
    },
    {
      "cell_type": "markdown",
      "source": [
        "## Step 1: Load Data\n"
      ],
      "metadata": {
        "id": "l7Ln2vL3zayx"
      }
    },
    {
      "cell_type": "code",
      "source": [
        "import pandas as pd\n",
        "\n",
        "data=pd.read_csv(\"data.csv\")\n",
        "print(data.head())\n",
        "\n",
        "#--------------practice----------\n",
        "# data=pd.read_csv(\"data.csv\")\n",
        "# print(type(data))\n",
        "\n",
        "# print(data.head())\n",
        "# data.head(10)\n",
        "# data.info()\n",
        "# data.describe()\n",
        "#-------------------------------\n"
      ],
      "metadata": {
        "colab": {
          "base_uri": "https://localhost:8080/",
          "height": 578
        },
        "id": "JP0WQIyFvTQg",
        "outputId": "b39f3e00-fdff-4efb-bf11-9442b3822afc"
      },
      "execution_count": 10,
      "outputs": [
        {
          "output_type": "stream",
          "name": "stdout",
          "text": [
            "<class 'pandas.core.frame.DataFrame'>\n",
            "     x     y\n",
            "0  449  2265\n",
            "1  934  4690\n",
            "2  556  2800\n",
            "3  489  2465\n",
            "4  566  2850\n",
            "<class 'pandas.core.frame.DataFrame'>\n",
            "RangeIndex: 289 entries, 0 to 288\n",
            "Data columns (total 2 columns):\n",
            " #   Column  Non-Null Count  Dtype\n",
            "---  ------  --------------  -----\n",
            " 0   x       289 non-null    int64\n",
            " 1   y       289 non-null    int64\n",
            "dtypes: int64(2)\n",
            "memory usage: 4.6 KB\n"
          ]
        },
        {
          "output_type": "execute_result",
          "data": {
            "text/plain": [
              "                x            y\n",
              "count  289.000000   289.000000\n",
              "mean   470.224913  2371.124567\n",
              "std    285.286335  1426.431675\n",
              "min      0.000000    20.000000\n",
              "25%    245.000000  1245.000000\n",
              "50%    444.000000  2240.000000\n",
              "75%    715.000000  3595.000000\n",
              "max    998.000000  5010.000000"
            ],
            "text/html": [
              "\n",
              "  <div id=\"df-e603b32c-1a51-445d-97b9-1846dd4d89ad\">\n",
              "    <div class=\"colab-df-container\">\n",
              "      <div>\n",
              "<style scoped>\n",
              "    .dataframe tbody tr th:only-of-type {\n",
              "        vertical-align: middle;\n",
              "    }\n",
              "\n",
              "    .dataframe tbody tr th {\n",
              "        vertical-align: top;\n",
              "    }\n",
              "\n",
              "    .dataframe thead th {\n",
              "        text-align: right;\n",
              "    }\n",
              "</style>\n",
              "<table border=\"1\" class=\"dataframe\">\n",
              "  <thead>\n",
              "    <tr style=\"text-align: right;\">\n",
              "      <th></th>\n",
              "      <th>x</th>\n",
              "      <th>y</th>\n",
              "    </tr>\n",
              "  </thead>\n",
              "  <tbody>\n",
              "    <tr>\n",
              "      <th>count</th>\n",
              "      <td>289.000000</td>\n",
              "      <td>289.000000</td>\n",
              "    </tr>\n",
              "    <tr>\n",
              "      <th>mean</th>\n",
              "      <td>470.224913</td>\n",
              "      <td>2371.124567</td>\n",
              "    </tr>\n",
              "    <tr>\n",
              "      <th>std</th>\n",
              "      <td>285.286335</td>\n",
              "      <td>1426.431675</td>\n",
              "    </tr>\n",
              "    <tr>\n",
              "      <th>min</th>\n",
              "      <td>0.000000</td>\n",
              "      <td>20.000000</td>\n",
              "    </tr>\n",
              "    <tr>\n",
              "      <th>25%</th>\n",
              "      <td>245.000000</td>\n",
              "      <td>1245.000000</td>\n",
              "    </tr>\n",
              "    <tr>\n",
              "      <th>50%</th>\n",
              "      <td>444.000000</td>\n",
              "      <td>2240.000000</td>\n",
              "    </tr>\n",
              "    <tr>\n",
              "      <th>75%</th>\n",
              "      <td>715.000000</td>\n",
              "      <td>3595.000000</td>\n",
              "    </tr>\n",
              "    <tr>\n",
              "      <th>max</th>\n",
              "      <td>998.000000</td>\n",
              "      <td>5010.000000</td>\n",
              "    </tr>\n",
              "  </tbody>\n",
              "</table>\n",
              "</div>\n",
              "      <button class=\"colab-df-convert\" onclick=\"convertToInteractive('df-e603b32c-1a51-445d-97b9-1846dd4d89ad')\"\n",
              "              title=\"Convert this dataframe to an interactive table.\"\n",
              "              style=\"display:none;\">\n",
              "        \n",
              "  <svg xmlns=\"http://www.w3.org/2000/svg\" height=\"24px\"viewBox=\"0 0 24 24\"\n",
              "       width=\"24px\">\n",
              "    <path d=\"M0 0h24v24H0V0z\" fill=\"none\"/>\n",
              "    <path d=\"M18.56 5.44l.94 2.06.94-2.06 2.06-.94-2.06-.94-.94-2.06-.94 2.06-2.06.94zm-11 1L8.5 8.5l.94-2.06 2.06-.94-2.06-.94L8.5 2.5l-.94 2.06-2.06.94zm10 10l.94 2.06.94-2.06 2.06-.94-2.06-.94-.94-2.06-.94 2.06-2.06.94z\"/><path d=\"M17.41 7.96l-1.37-1.37c-.4-.4-.92-.59-1.43-.59-.52 0-1.04.2-1.43.59L10.3 9.45l-7.72 7.72c-.78.78-.78 2.05 0 2.83L4 21.41c.39.39.9.59 1.41.59.51 0 1.02-.2 1.41-.59l7.78-7.78 2.81-2.81c.8-.78.8-2.07 0-2.86zM5.41 20L4 18.59l7.72-7.72 1.47 1.35L5.41 20z\"/>\n",
              "  </svg>\n",
              "      </button>\n",
              "      \n",
              "  <style>\n",
              "    .colab-df-container {\n",
              "      display:flex;\n",
              "      flex-wrap:wrap;\n",
              "      gap: 12px;\n",
              "    }\n",
              "\n",
              "    .colab-df-convert {\n",
              "      background-color: #E8F0FE;\n",
              "      border: none;\n",
              "      border-radius: 50%;\n",
              "      cursor: pointer;\n",
              "      display: none;\n",
              "      fill: #1967D2;\n",
              "      height: 32px;\n",
              "      padding: 0 0 0 0;\n",
              "      width: 32px;\n",
              "    }\n",
              "\n",
              "    .colab-df-convert:hover {\n",
              "      background-color: #E2EBFA;\n",
              "      box-shadow: 0px 1px 2px rgba(60, 64, 67, 0.3), 0px 1px 3px 1px rgba(60, 64, 67, 0.15);\n",
              "      fill: #174EA6;\n",
              "    }\n",
              "\n",
              "    [theme=dark] .colab-df-convert {\n",
              "      background-color: #3B4455;\n",
              "      fill: #D2E3FC;\n",
              "    }\n",
              "\n",
              "    [theme=dark] .colab-df-convert:hover {\n",
              "      background-color: #434B5C;\n",
              "      box-shadow: 0px 1px 3px 1px rgba(0, 0, 0, 0.15);\n",
              "      filter: drop-shadow(0px 1px 2px rgba(0, 0, 0, 0.3));\n",
              "      fill: #FFFFFF;\n",
              "    }\n",
              "  </style>\n",
              "\n",
              "      <script>\n",
              "        const buttonEl =\n",
              "          document.querySelector('#df-e603b32c-1a51-445d-97b9-1846dd4d89ad button.colab-df-convert');\n",
              "        buttonEl.style.display =\n",
              "          google.colab.kernel.accessAllowed ? 'block' : 'none';\n",
              "\n",
              "        async function convertToInteractive(key) {\n",
              "          const element = document.querySelector('#df-e603b32c-1a51-445d-97b9-1846dd4d89ad');\n",
              "          const dataTable =\n",
              "            await google.colab.kernel.invokeFunction('convertToInteractive',\n",
              "                                                     [key], {});\n",
              "          if (!dataTable) return;\n",
              "\n",
              "          const docLinkHtml = 'Like what you see? Visit the ' +\n",
              "            '<a target=\"_blank\" href=https://colab.research.google.com/notebooks/data_table.ipynb>data table notebook</a>'\n",
              "            + ' to learn more about interactive tables.';\n",
              "          element.innerHTML = '';\n",
              "          dataTable['output_type'] = 'display_data';\n",
              "          await google.colab.output.renderOutput(dataTable, element);\n",
              "          const docLink = document.createElement('div');\n",
              "          docLink.innerHTML = docLinkHtml;\n",
              "          element.appendChild(docLink);\n",
              "        }\n",
              "      </script>\n",
              "    </div>\n",
              "  </div>\n",
              "  "
            ]
          },
          "metadata": {},
          "execution_count": 10
        }
      ]
    },
    {
      "cell_type": "markdown",
      "source": [
        "## Step 2: Prepoare X, Y"
      ],
      "metadata": {
        "id": "v1np9BQqzegZ"
      }
    },
    {
      "cell_type": "code",
      "source": [
        "a=(5,)\n",
        "print(type(a))\n"
      ],
      "metadata": {
        "colab": {
          "base_uri": "https://localhost:8080/"
        },
        "id": "FQ4drlelERoC",
        "outputId": "02064005-66a9-4a0d-e369-2fbcdc007251"
      },
      "execution_count": 21,
      "outputs": [
        {
          "output_type": "stream",
          "name": "stdout",
          "text": [
            "<class 'tuple'>\n"
          ]
        }
      ]
    },
    {
      "cell_type": "code",
      "source": [],
      "metadata": {
        "id": "iwtLb1TNHQ-y"
      },
      "execution_count": null,
      "outputs": []
    },
    {
      "cell_type": "code",
      "source": [
        "print(type(data))\n",
        "data.columns\n",
        "print(data.head(10))\n",
        "# X=data.x.values.reshape(-1,1)\n",
        "# Y=data['y'].values.reshape(-1,1)\n",
        "\n",
        "X=data.iloc[:,:-1].values.reshape(-1,1)\n",
        "Y=data.iloc[:,-1].values.reshape(-1,1)\n",
        "\n",
        "# print(type(X),\"\\n\",type(Y))\n",
        "# print(X.shape)\n",
        "\n"
      ],
      "metadata": {
        "colab": {
          "base_uri": "https://localhost:8080/"
        },
        "id": "6Pdr2UAkwylc",
        "outputId": "22ecd0f3-a7aa-4a5b-ab1b-3f6425eaa3c4"
      },
      "execution_count": 24,
      "outputs": [
        {
          "output_type": "stream",
          "name": "stdout",
          "text": [
            "<class 'pandas.core.frame.DataFrame'>\n",
            "     x     y\n",
            "0  449  2265\n",
            "1  934  4690\n",
            "2  556  2800\n",
            "3  489  2465\n",
            "4  566  2850\n",
            "5   18   110\n",
            "6  156   800\n",
            "7  477  2405\n",
            "8  579  2915\n",
            "9  476  2400\n",
            "<class 'numpy.ndarray'> \n",
            " <class 'numpy.ndarray'>\n",
            "(289, 1)\n",
            "[[449]\n",
            " [934]\n",
            " [556]\n",
            " [489]\n",
            " [566]\n",
            " [ 18]\n",
            " [156]\n",
            " [477]\n",
            " [579]\n",
            " [476]]\n"
          ]
        }
      ]
    },
    {
      "cell_type": "markdown",
      "source": [
        "## Step 3: Select Model"
      ],
      "metadata": {
        "id": "Ax8OrNXXzhrQ"
      }
    },
    {
      "cell_type": "code",
      "source": [
        "from sklearn.linear_model import LinearRegression as LR\n",
        "model =LR()\n",
        "model.fit(X,Y)\n",
        "print(\"a=\",model.coef_,\"b=\",model.intercept_)\n",
        "\n",
        "import matplotlib.pyplot as plt\n",
        "\n",
        "plt.scatter(X,Y)\n"
      ],
      "metadata": {
        "colab": {
          "base_uri": "https://localhost:8080/",
          "height": 300
        },
        "id": "91HrQBASCSYC",
        "outputId": "8a322286-9d61-4042-89bf-c721f52d0229"
      },
      "execution_count": 32,
      "outputs": [
        {
          "output_type": "stream",
          "name": "stdout",
          "text": [
            "a= [[5.]] b= [20.]\n"
          ]
        },
        {
          "output_type": "execute_result",
          "data": {
            "text/plain": [
              "<matplotlib.collections.PathCollection at 0x7fbe254bce10>"
            ]
          },
          "metadata": {},
          "execution_count": 32
        },
        {
          "output_type": "display_data",
          "data": {
            "text/plain": [
              "<Figure size 432x288 with 1 Axes>"
            ],
            "image/png": "[encoded data removed]"
          },
          "metadata": {
            "needs_background": "light"
          }
        }
      ]
    },
    {
      "cell_type": "markdown",
      "source": [
        "## Step 4: Evaluate Model Performance"
      ],
      "metadata": {
        "id": "c1Z2O-FJznBB"
      }
    },
    {
      "cell_type": "markdown",
      "source": [
        "## Step 5: Deploy Prediction"
      ],
      "metadata": {
        "id": "GGa7Fr-LztPo"
      }
    }
  ]
}